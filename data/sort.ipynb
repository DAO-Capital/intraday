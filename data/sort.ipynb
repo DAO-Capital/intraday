{
 "cells": [
  {
   "cell_type": "code",
   "execution_count": 3,
   "metadata": {},
   "outputs": [],
   "source": [
    "csv = \"etl_QUESTDB_metrics.csv\"\n",
    "import pandas as pd\n",
    "\n",
    "df = pd.read_csv(csv)\n",
    "\n",
    "#sort by 'rows' column\n",
    "df = df.sort_values(by='rows', ascending=True)\n",
    "\n",
    "#save to csv\n",
    "df.to_csv('etl_QUESTDB_metrics_sorted.csv', index=False)"
   ]
  }
 ],
 "metadata": {
  "kernelspec": {
   "display_name": "env",
   "language": "python",
   "name": "python3"
  },
  "language_info": {
   "codemirror_mode": {
    "name": "ipython",
    "version": 3
   },
   "file_extension": ".py",
   "mimetype": "text/x-python",
   "name": "python",
   "nbconvert_exporter": "python",
   "pygments_lexer": "ipython3",
   "version": "3.12.5"
  }
 },
 "nbformat": 4,
 "nbformat_minor": 2
}
